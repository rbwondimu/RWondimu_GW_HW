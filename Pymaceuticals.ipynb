{
 "cells": [
  {
   "cell_type": "code",
   "execution_count": null,
   "metadata": {},
   "outputs": [],
   "source": [
    "# Dependencies and Setup\n",
    "%matplotlib inline\n",
    "import matplotlib.pyplot as plt\n",
    "import pandas as pd\n",
    "import numpy as np\n",
    "import os\n",
    "# Hide warning messages in notebook\n",
    "import warnings\n",
    "warnings.filterwarnings('ignore')\n",
    "# File to Load (Remember to Change These)\n",
    "mouse_data_path= os.path.join('data',‘mouse_drug_data.csv')\n",
    "clinical_data_path = os.path.join(‘data’,‘clinicaltrial_data.csv’)\n",
    "# Read the Mouse and Drug Data and the Clinical Trial Data\n",
    "mouse_drug_df = pd.read_csv(mouse_data_path)\n",
    "clinical_trial_df = pd.read_csv(clinical_data_path)\n",
    "# Combine the data into a single dataset\n",
    "complete_df = pd.merge(clinical_trial_df,mouse_drug_df,on=‘Mouse ID’,how=‘left’)\n",
    "# Display the data table for preview\n",
    "complete_df.head()"
   ]
  },
  {
   "cell_type": "markdown",
   "metadata": {},
   "source": [
    "## Tumor Response to Treatment"
   ]
  },
  {
   "cell_type": "code",
   "execution_count": null,
   "metadata": {},
   "outputs": [],
   "source": [
    "# Store the Mean Tumor Volume Data Grouped by Drug and Timepoint \n",
    "grouped_df = complete_df.groupby(['Drug','Timepoint'])['Tumor Volume (mm3)']\n",
    "avg_tumor_df = grouped_df.mean()\n",
    "\n",
    "# Convert to DataFrame\n",
    "avg_tumor_df = avg_tumor_df.reset_index()\n",
    "\n",
    "# Preview DataFrame\n",
    "avg_tumor_df.head()\n"
   ]
  },
  {
   "cell_type": "code",
   "execution_count": null,
   "metadata": {},
   "outputs": [],
   "source": [
    "# Store the Standard Error of Tumor Volumes Grouped by Drug and Timepoint\n",
    "tumor_standard_errors = grouped_df.sem()\n",
    "\n",
    "\n",
    "# Convert to DataFrame\n",
    "tumor_standard_errors_df = pd.DataFrame(tumor_standard_errors)\n",
    "\n",
    "# Preview DataFrame\n",
    "tumor_standard_errors_df.reset_index(inplace=True)\n",
    "tumor_standard_errors_df.head()"
   ]
  },
  {
   "cell_type": "code",
   "execution_count": null,
   "metadata": {},
   "outputs": [],
   "source": [
    "# Minor Data Munging to Re-Format the Data Frames\n",
    "pivot_avg_tumor_df = avg_tumor_df.pivot(index='Timepoint',columns='Drug',values='Tumor Volume (mm3)')\n",
    "\n",
    "# Preview that Reformatting worked\n",
    "pivot_avg_tumor_df.head(20)\n"
   ]
  },
  {
   "cell_type": "code",
   "execution_count": null,
   "metadata": {},
   "outputs": [],
   "source": [
    "# Generate the Plot (with Error Bars)\n",
    "# Save the Figure\n",
    "drug_format_list = [('Capomulin','o','red'),('Infubinol','^','blue'),('Ketapril','s','green'),('Placebo','d','black')]\n",
    "for drug,marker,colors in drug_format_list:\n",
    "    ste = tumor_standard_errors[drug]\n",
    "    tumor_treatment_plt = plt.errorbar(pivot_avg_tumor_df.index,pivot_avg_tumor_df[drug],ste,\n",
    "                                       fmt=marker,ls='--',color=colors,linewidth=0.5)\n",
    "plt.legend(loc='best')\n",
    "plt.title('Tumor Response to Treatment')\n",
    "plt.xlabel('Time (Days)')\n",
    "plt.ylabel('Tumor Volume (mm3)')\n",
    "plt.grid()"
   ]
  },
  {
   "cell_type": "code",
   "execution_count": null,
   "metadata": {},
   "outputs": [],
   "source": [
    "# Show the Figure\n",
    "plt.savefig(os.path.join('figures','tumor_response_to_treatment.png'))"
   ]
  },
  {
   "cell_type": "markdown",
   "metadata": {},
   "source": [
    "![Tumor Response to Treatment](../Images/treatment.png)"
   ]
  },
  {
   "cell_type": "markdown",
   "metadata": {},
   "source": [
    "## Metastatic Response to Treatment"
   ]
  },
  {
   "cell_type": "code",
   "execution_count": null,
   "metadata": {},
   "outputs": [],
   "source": [
    "# Store the Mean Met. Site Data Grouped by Drug and Timepoint \n",
    "grouped_met_df = complete_df.groupby(['Drug','Timepoint'])['Metastatic Sites']\n",
    "avg_met_df = grouped_met_df.mean()\n",
    "\n",
    "# Convert to DataFrame\n",
    "avg_met_df = avg_met_df.reset_index()\n",
    "\n",
    "# Preview DataFrame\n",
    "avg_met_df.head()\n"
   ]
  },
  {
   "cell_type": "code",
   "execution_count": null,
   "metadata": {},
   "outputs": [],
   "source": [
    "# Store the Standard Error associated with Met. Sites Grouped by Drug and Timepoint \n",
    "met_standard_errors = grouped_met_df.sem()\n",
    "\n",
    "# Convert to DataFrame\n",
    "met_standard_errors_df = pd.DataFrame(met_standard_errors)\n",
    "\n",
    "# Preview DataFrame\n",
    "met_standard_errors_df.reset_index(inplace=True)\n",
    "met_standard_errors_df.head()\n"
   ]
  },
  {
   "cell_type": "code",
   "execution_count": null,
   "metadata": {},
   "outputs": [],
   "source": [
    "# Minor Data Munging to Re-Format the Data Frames\n",
    "pivot_avg_met_df = avg_met_df.pivot(index='Timepoint',columns='Drug',values='Metastatic Sites')\n",
    "\n",
    "# Preview that Reformatting worked\n",
    "pivot_avg_met_df.head(20)"
   ]
  },
  {
   "cell_type": "code",
   "execution_count": null,
   "metadata": {},
   "outputs": [],
   "source": [
    "# Generate the Plot (with Error Bars)\n",
    "for drug,marker,colors in drug_format_list:\n",
    "    ste = met_standard_errors[drug]\n",
    "    met_treatment_plt = plt.errorbar(pivot_avg_met_df.index,pivot_avg_met_df[drug],ste,\n",
    "                                       fmt=marker,ls='--',color=colors,linewidth=0.5)\n",
    "\n",
    "# Show the Figure\n",
    "plt.legend(loc='best')\n",
    "plt.title('Metastatic Spread During Treatment')\n",
    "plt.xlabel('Treatment Duration (Days)')\n",
    "plt.ylabel('Met. Sites')\n",
    "plt.grid()\n",
    "\n",
    "# Save the Figure\n",
    "plt.savefig(os.path.join('figures','metastic_spread_during_treatment.png'))"
   ]
  },
  {
   "cell_type": "markdown",
   "metadata": {},
   "source": [
    "![Metastatic Spread During Treatment](../Images/spread.png)"
   ]
  },
  {
   "cell_type": "markdown",
   "metadata": {},
   "source": [
    "## Survival Rates"
   ]
  },
  {
   "cell_type": "code",
   "execution_count": null,
   "metadata": {},
   "outputs": [],
   "source": [
    "# Store the Count of Mice Grouped by Drug and Timepoint (W can pass any metric)\n",
    "mouse_grouped_df = complete_df.groupby(['Drug','Timepoint'])['Mouse ID']\n",
    "count_mouse_df = mouse_grouped_df.nunique()\n",
    "count_mouse_df = pd.DataFrame(count_mouse_df)\n",
    "\n",
    "# Convert to DataFrame\n",
    "count_mouse_df.reset_index(inplace=True)\n",
    "count_mouse_df=count_mouse_df.rename(columns={'Mouse ID':'Mouse Count'})\n",
    "\n",
    "# Preview DataFrame\n",
    "count_mouse_df.head()\n"
   ]
  },
  {
   "cell_type": "code",
   "execution_count": null,
   "metadata": {},
   "outputs": [],
   "source": [
    "# Minor Data Munging to Re-Format the Data Frames\n",
    "pivot_count_mouse_df = count_mouse_df.pivot(index='Timepoint',columns='Drug',values='Mouse Count')\n",
    "\n",
    "# Preview the Data Frame\n",
    "pivot_count_mouse_df.head()"
   ]
  },
  {
   "cell_type": "code",
   "execution_count": null,
   "metadata": {},
   "outputs": [],
   "source": [
    "# Generate the Plot (Accounting for percentages)\n",
    "for drug,marker,colors in drug_format_list:\n",
    "    total_mouse = pivot_count_mouse_df[drug][0]\n",
    "    survival_rate = (pivot_count_mouse_df[drug]/total_mouse)*100\n",
    "    survival_treatment_plt = plt.plot(pivot_count_mouse_df.index,survival_rate,\n",
    "                                       marker=marker,ls='--',color=colors,linewidth=0.5)\n",
    "\n",
    "# Show the Figure\n",
    "plt.legend(loc='best')\n",
    "plt.title('Survival During Treatment')\n",
    "plt.xlabel('Times (Days)')\n",
    "plt.ylabel('Survival Rate (%)')\n",
    "plt.grid()\n",
    "\n",
    "# Save the Figure\n",
    "plt.savefig(os.path.join('figures','survival_during_treatment.png'))\n"
   ]
  },
  {
   "cell_type": "markdown",
   "metadata": {},
   "source": [
    "![Metastatic Spread During Treatment](../Images/survival.png)"
   ]
  },
  {
   "cell_type": "markdown",
   "metadata": {},
   "source": [
    "## Summary Bar Graph"
   ]
  },
  {
   "cell_type": "code",
   "execution_count": null,
   "metadata": {},
   "outputs": [],
   "source": [
    "# Calculate the percent changes for each drug\n",
    "percentage_change = (pivot_avg_tumor_df.iloc[-1]/(pivot_avg_tumor_df.iloc[0])-1)*100\n",
    "\n",
    "# Display the data to confirm\n",
    "percentage_change"
   ]
  },
  {
   "cell_type": "code",
   "execution_count": null,
   "metadata": {},
   "outputs": [],
   "source": [
    "# Splice the data between passing and failing drugs\n",
    "passing = percentage_change < 0\n",
    "\n",
    "# Orient widths. Add labels, tick marks, etc. \n",
    "drug_list = ['Capomulin','Infubinol','Ketapril','Placebo']\n",
    "change_list = [(percentage_change[durg])for durg in drug_list]\n",
    "change_plt = plt.bar(drug_list,change_list,width=-1,align='edge',color=passing.map({True:'g',False:'r'}))\n",
    "plt.grid()\n",
    "plt.ylim(-30,70)\n",
    "plt.ylabel('% Tumor Volume Change')\n",
    "plt.title('Tumor Change over 45 Day Treatment')\n",
    "\n",
    "# Use functions to label the percentages of changes\n",
    "def autolabel(rects):\n",
    "    for rect in rects:\n",
    "        height = rect.get_height()\n",
    "        if height > 0:\n",
    "            label_position = 2\n",
    "        else:\n",
    "            label_position = -8\n",
    "        plt.text(rect.get_x() + rect.get_width()/2., label_position,\n",
    "                '%d' % int(height)+'%',color='white',\n",
    "                ha='center', va='bottom')\n",
    "                \n",
    "# Call functions to implement the function calls\n",
    "autolabel(change_plt)\n",
    "\n",
    "# Save the Figure\n",
    "plt.savefig(os.path.join('figures','tumor_change_over_45day_treatment.png'))\n",
    "\n",
    "# Show the Figure\n",
    "fig.show()"
   ]
  },
  {
   "cell_type": "markdown",
   "metadata": {},
   "source": [
    "![Metastatic Spread During Treatment](../Images/change.png)"
   ]
  }
 ],
 "metadata": {
  "anaconda-cloud": {},
  "kernelspec": {
   "display_name": "Python 3",
   "language": "python",
   "name": "python3"
  },
  "language_info": {
   "codemirror_mode": {
    "name": "ipython",
    "version": 3
   },
   "file_extension": ".py",
   "mimetype": "text/x-python",
   "name": "python",
   "nbconvert_exporter": "python",
   "pygments_lexer": "ipython3",
   "version": "3.7.3"
  }
 },
 "nbformat": 4,
 "nbformat_minor": 1
}
